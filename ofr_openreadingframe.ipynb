{
  "nbformat": 4,
  "nbformat_minor": 0,
  "metadata": {
    "colab": {
      "name": "ofr_openreadingframe.ipynb",
      "provenance": [],
      "authorship_tag": "ABX9TyND7ThS1EsFgo1km7P5y+gJ",
      "include_colab_link": true
    },
    "kernelspec": {
      "name": "python3",
      "display_name": "Python 3"
    },
    "language_info": {
      "name": "python"
    }
  },
  "cells": [
    {
      "cell_type": "markdown",
      "metadata": {
        "id": "view-in-github",
        "colab_type": "text"
      },
      "source": [
        "<a href=\"https://colab.research.google.com/github/leventdusunceli/Bioinformatic-Functions/blob/main/ofr_openreadingframe.ipynb\" target=\"_parent\"><img src=\"https://colab.research.google.com/assets/colab-badge.svg\" alt=\"Open In Colab\"/></a>"
      ]
    },
    {
      "cell_type": "markdown",
      "source": [
        "#Open Reading Frames \n",
        "\n",
        "Finding orfs \n",
        "\n",
        "Steps:\n",
        "\n",
        "\n",
        "1.   Define DNA codon table (helps you bypass mRNA transcription step) \n",
        "2.   Create reverse complement of given string (reverse complement because transcription 5' to 3') \n",
        "3. Define fragment finder with regex \n",
        "4. Define fragment translator \n",
        "5. Perform fragment finder on string and complementary strand \n",
        "6. Perform translation on fragments  \n",
        "\n"
      ],
      "metadata": {
        "id": "ppj5tLUSk1EJ"
      }
    },
    {
      "cell_type": "code",
      "source": [
        "#Step 1: DNA Codon Table \n",
        "\n",
        "dna_codon_table = {\n",
        "    \"TTT\":\"F\", \"CTT\":\"L\", \"ATT\":\"I\", \"GTT\":\"V\",\n",
        "    \"TTC\":\"F\", \"CTC\":\"L\", \"ATC\":\"I\", \"GTC\":\"V\",\n",
        "    \"TTA\":\"L\", \"CTA\":\"L\", \"ATA\":\"I\", \"GTA\":\"V\",\n",
        "    \"TTG\":\"L\", \"CTG\":\"L\", \"ATG\":\"M\", \"GTG\":\"V\",\n",
        "    \"TCT\":\"S\", \"CCT\":\"P\", \"ACT\":\"T\", \"GCT\":\"A\",\n",
        "    \"TCC\":\"S\", \"CCC\":\"P\", \"ACC\":\"T\", \"GCC\":\"A\",\n",
        "    \"TCA\":\"S\", \"CCA\":\"P\", \"ACA\":\"T\", \"GCA\":\"A\",\n",
        "    \"TCG\":\"S\", \"CCG\":\"P\", \"ACG\":\"T\", \"GCG\":\"A\",\n",
        "    \"TAT\":\"Y\", \"CAT\":\"H\", \"AAT\":\"N\", \"GAT\":\"D\",\n",
        "    \"TAC\":\"Y\", \"CAC\":\"H\", \"AAC\":\"N\", \"GAC\":\"D\",\n",
        "    \"TAA\":\"STOP\", \"CAA\":\"Q\", \"AAA\":\"K\", \"GAA\":\"E\",\n",
        "    \"TAG\":\"STOP\", \"CAG\":\"Q\", \"AAG\":\"K\", \"GAG\":\"E\",\n",
        "    \"TGT\":\"C\", \"CGT\":\"R\", \"AGT\":\"S\", \"GGT\":\"G\",\n",
        "    \"TGC\":\"C\", \"CGC\":\"R\", \"AGC\":\"S\", \"GGC\":\"G\",\n",
        "    \"TGA\":\"STOP\", \"CGA\":\"R\", \"AGA\":\"R\", \"GGA\":\"G\",\n",
        "    \"TGG\":\"W\", \"CGG\":\"R\", \"AGG\":\"R\", \"GGG\":\"G\"\n",
        "}"
      ],
      "metadata": {
        "id": "YN_-9qxG11mX"
      },
      "execution_count": 1,
      "outputs": []
    },
    {
      "cell_type": "code",
      "source": [
        "#Step 2: Reverse Complementer \n",
        "\n",
        "def reverse_complementer(DNA):\n",
        "\n",
        "    aa_dict = {\"G\":\"C\", \"C\":\"G\",\"T\":\"A\",\"A\":\"T\"}\n",
        "\n",
        "    reversed_strand= DNA[::-1]    #this line reverses the given DNA Sequence\n",
        "    \n",
        "    rev_comp_strand = \"\"\n",
        "\n",
        "    for char in reversed_strand:  #this line cretes complementary strand by replacing bases\n",
        "      rev_comp_strand += aa_dict[char]\n",
        "\n",
        "    return rev_comp_strand "
      ],
      "metadata": {
        "id": "Nh6vfI5l14vH"
      },
      "execution_count": 2,
      "outputs": []
    },
    {
      "cell_type": "code",
      "source": [
        "#Step 3: Fragment Finder Function \n",
        "\n",
        "#will also find fragments for reverse complementary strand \n",
        "\n",
        "def fragment_finder(dna_string):\n",
        "\n",
        "  import re \n",
        "  fragments = []\n",
        "  regex = re.compile(r'(?=(ATG(?:...)*?)(?=TAA|TAG|TGA))') \n",
        "\n",
        "  for fragment in re.findall(regex, dna_string):\n",
        "    fragments.append(fragment)\n",
        "  \n",
        "  for fragment in re.findall(regex, reverse_complementer(dna_string)):\n",
        "    fragments.append(fragment)\n",
        "\n",
        "  return fragments "
      ],
      "metadata": {
        "id": "qeiz81Vz3Sp9"
      },
      "execution_count": 3,
      "outputs": []
    },
    {
      "cell_type": "markdown",
      "source": [
        "Explanation of the regular expression (regex) \n",
        "\n",
        "\n",
        "\n",
        "\n",
        "```\n",
        "fragment = re.compile(r'(?=(ATG(?:...)*?)(?=TAA|TAG|TGA))') \n",
        "```\n",
        "* ```re.compile()``` --> compile regex into a fragment that can be used in re.search or re.findall methods \n",
        "* ```(r' ``` --> pass through backslashes w/out any change\n",
        "* ```(?=(ATG(?...)*?``` --> find sequence starting with ATG [```(?=(ATG```], followed by zero or more codons [```(?...)*?```]\n",
        "* ```(?=TAA|TAG|TGA)``` --> and ends with stop codons but only if it starts with the regex defined above. Also don't include stop codons in the final sequence returned\n"
      ],
      "metadata": {
        "id": "DWmNNi424tmf"
      }
    },
    {
      "cell_type": "code",
      "source": [
        "#Step 4: Fragment Translator\n",
        "\n",
        "#This function is for a single fragment\n",
        "#In the final implementation we'll iterate through the list of fragments created with fragment_finder() function   \n",
        "\n",
        "def translator(fragment):\n",
        "  protein_seq = []\n",
        "\n",
        "  codons = [fragment[i:i+3] for i in range(0, len(fragment),3)] #returns codons \n",
        "\n",
        "  for codon in codons: #translates each codon into corresponding amino acid\n",
        "    protein_seq += dna_codon_table[codon]\n",
        "\n",
        "  return \"\".join(protein_seq) #join all aminoacids into one list and return"
      ],
      "metadata": {
        "id": "2RP7CmHG__-6"
      },
      "execution_count": 4,
      "outputs": []
    },
    {
      "cell_type": "code",
      "source": [
        "#Step 5 & 6 : Implementation of code \n",
        "\n",
        "string = \"AGGATATTAGCTCCCAAGTAGGCAGACCTGTCGATCCCTGAAAGAGAGTCGCATCCTCTCGGTTCGCCTAAGCTCGAGTGTCCTAGGTTTGGCATAGGGACAGTCCAAGTACGCGGAGGTTATGCTTCGGACCGGCTCCACCCGATCGTCGGTGTGTTATCCACCCGTTTACTGGAGTCGTCCCAGCGAAATGCACCTAGTAGAGTTAATTAATGCATCTAGGACACAAGTATGCGCAGTCCGCGCTCTCATATGCTAGTGACAGTTTCTAAGAGCGCCCGAGTGTAAACGTAGGCAACACCACCTACTGTATTGCAGCATCCTCGGGCGATCTGATTGGTCTCCAGCAAAACGCATTCTCGATCGTTGGACTAAGCACACAGCGTTAGTACAAAACGCTACATGCCGGCTTCGAGGCCCAAGACGCAACTGGTGTCTTGTCCGCTGTGCCACACAGAAACATGAGTAACTGCGTGATTGAGGTTCCATAGCTATGGAACCTCAATCACGCAGTTACTCATCACATCCGATGATAATTAGCTGTCGACTCCGCGAAGTATTGTTTAGTTCAGTGCGTAGGTGCCAGATGATTGGTTCTGACTGCCTTCTTACCGACGCCGCGAATTATTGATAGGGCAGTCTCTGTCAACGGCCCCGTCTAGAACGGCGCCTATTTAGGTCCCGCTCTGTTCGATATTAAGAACCGGTCCATCGCTATGGGTGCTTTACGCACACGCCGTACTTATCAGCATTGCGTTTGCTACCTTGTCAGAATTAGATTAAGACAAAGTGATCCCTCGCTCGTCTTGGTAGGCCAGCAGCGGGCGTCCTCATCAGATAGGCTGTGGGCGGCTTTGCGGTCTAGGGTACACTTTAGAAGGGGGCGCGGACCGTCCTCTTAGCCTTCCCAGTTTAGTTCGCGCCCAGTTTAGGAAACCCTAGTTACTTATTGGAGGCGGGGGGCACACGCCGGTTGAGCGTC\"\n",
        "\n",
        "fragments1 = fragment_finder(string)\n",
        "\n",
        "proteins =[]\n",
        "for i in set(fragments1):\n",
        "  print(translator(i))"
      ],
      "metadata": {
        "colab": {
          "base_uri": "https://localhost:8080/"
        },
        "id": "hDSDhL3UKQmx",
        "outputId": "765727c4-6286-4cb5-b5a3-80c9e0aff36c"
      },
      "execution_count": 8,
      "outputs": [
        {
          "output_type": "stream",
          "name": "stdout",
          "text": [
            "MRTPAAGLPRRARDHFVLI\n",
            "MHLGHKYAQSALSYASDSF\n",
            "MLQYSRWCCLRLHSGALRNCH\n",
            "MRFAGDQSDRPRMLQYSRWCCLRLHSGALRNCH\n",
            "MIGSDCLLTDAANY\n",
            "M\n",
            "MPASRPKTQLVSCPLCHTET\n",
            "MRLSFRDRQVCLLGS\n",
            "MLISTACA\n",
            "MH\n",
            "MEPQSRSYSCFCVAQRTRHQLRLGPRSRHVAFCTNAVCLVQRSRMRFAGDQSDRPRMLQYSRWCCLRLHSGALRNCH\n",
            "MEPQSRSYSSHPMIISCRLREVLFSSVRRCQMIGSDCLLTDAANY\n",
            "MSNCVIEVP\n",
            "MFLCGTADKTPVASWASKPACSVLY\n",
            "MLVTVSKSARV\n",
            "MRSPRSHMLVTVSKSARV\n",
            "MLRTGSTRSSVCYPPVYWSRPSEMHLVELINASRTQVCAVRALIC\n",
            "MHLVELINASRTQVCAVRALIC\n",
            "MIISCRLREVLFSSVRRCQMIGSDCLLTDAANY\n",
            "MDRFLISNRAGPK\n",
            "MRARTAHTCVLDALINSTRCISLGRLQ\n",
            "MGALRTRRTYQHCVCYLVRIRLRQSDPSLVLVGQQRASSSDRLWAALRSRVHFRRGRGPSS\n"
          ]
        }
      ]
    }
  ]
}
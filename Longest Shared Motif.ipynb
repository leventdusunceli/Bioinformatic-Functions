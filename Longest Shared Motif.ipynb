{
 "cells": [
  {
   "cell_type": "markdown",
   "id": "manufactured-hypothetical",
   "metadata": {},
   "source": [
    "## Finding the longest shared sequence  "
   ]
  },
  {
   "cell_type": "markdown",
   "id": "powered-genius",
   "metadata": {},
   "source": []
  },
  {
   "cell_type": "code",
   "execution_count": null,
   "id": "champion-registrar",
   "metadata": {},
   "outputs": [],
   "source": [
    "def shared_motif_finder(fasta_file):\n",
    "    \n",
    "    #In order to use data in fasta file, we need SeqIO package from Biopython\n",
    "    \n",
    "    from Bio import SeqIO\n",
    "    \n",
    "    fasta_seqs = list(SeqIO.parse(fasta_file,'fasta'))  #This will insert each entry in the fasta file into a list\n",
    "    \n",
    "    #Following lines are for being able to insert sequences into loops \n",
    "    sequences = []\n",
    "\n",
    "    for i in range(len(fasta_seqs)):\n",
    "        sequences.append(fasta_seqs[i].seq)\n",
    "    \n",
    "    \n",
    "    sorted_sequences = sorted(sequences,key=len)  \n",
    "    shortest_seq =sorted_sequences[0]  \n",
    "    other_seqs = sorted_sequences[1:]\n",
    "    motif= ''\n",
    "    \n",
    "    \n",
    "    for i in range(len(shortest_seq)):        #starting from the very first residue of the shortest sequence\n",
    "        for j in range(i,len(shortest_seq)):  #check if there's a match\n",
    "            m = shortest_seq[i:j+1]\n",
    "            found = False\n",
    "            for b in other_seqs:\n",
    "                if m in b:\n",
    "                    found = True\n",
    "                else:\n",
    "                    found = False \n",
    "                    break\n",
    "\n",
    "            if found and len(m)>len(motif):\n",
    "                motif = m\n",
    "    \n",
    "    return(motif)          \n",
    "                "
   ]
  }
 ],
 "metadata": {
  "kernelspec": {
   "display_name": "Python 3",
   "language": "python",
   "name": "python3"
  },
  "language_info": {
   "codemirror_mode": {
    "name": "ipython",
    "version": 3
   },
   "file_extension": ".py",
   "mimetype": "text/x-python",
   "name": "python",
   "nbconvert_exporter": "python",
   "pygments_lexer": "ipython3",
   "version": "3.9.2"
  }
 },
 "nbformat": 4,
 "nbformat_minor": 5
}

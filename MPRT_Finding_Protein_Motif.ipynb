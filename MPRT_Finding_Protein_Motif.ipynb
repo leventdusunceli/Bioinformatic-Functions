{
  "nbformat": 4,
  "nbformat_minor": 0,
  "metadata": {
    "colab": {
      "name": "MPRT-Finding Protein Motif.ipynb",
      "provenance": []
    },
    "kernelspec": {
      "name": "python3",
      "display_name": "Python 3"
    },
    "language_info": {
      "name": "python"
    }
  },
  "cells": [
    {
      "cell_type": "markdown",
      "metadata": {
        "id": "uF_5B1ldNvEn"
      },
      "source": [
        "#Finding N-glycosylation protein motif \n",
        "\n",
        "Following function is for finding N-glycosylation motif positions in a protein sequence if the UniProt access IDs are given. \n",
        "\n",
        "Function can be used for other motifs as well.  Change the regular expression defining the motif in order to do so. \n"
      ]
    },
    {
      "cell_type": "code",
      "metadata": {
        "id": "BjccAADBqSdo"
      },
      "source": [
        "#Download required packages \n",
        "\n",
        "!pip install biopython\n",
        "from urllib.request import urlopen\n",
        "from Bio import SeqIO \n",
        "import re \n",
        "\n",
        "\n",
        "def motif_search(access_ID):\n",
        "\n",
        "  #pulling fasta file of given access ID \n",
        "  URL = \"http://www.uniprot.org/uniprot/\" + access_ID + \".fasta\"\n",
        "  data = urlopen(URL)\n",
        "  fasta = data.read().decode(\"utf-8\")\n",
        "\n",
        "  #writing fasta file into a txt file \n",
        "  file_name = \"seq_file1.txt\"\n",
        "  with open(\"seq_file1.txt\",\"w\") as txt_file:\n",
        "    txt_file.write(fasta)\n",
        "\n",
        "  #parsing the protein sequence from fasta format\n",
        "  for seq_record in SeqIO.parse(file_name,\"fasta\"):\n",
        "    protein_seq = str(seq_record.seq)\n",
        "\n",
        "  #searching for n-glycosylation motif\n",
        "  #one can use this function for searching other motifs by changing the \n",
        "  #regular expression in the following lines \n",
        "  motifs  =[]\n",
        "\n",
        "  motifs.append(re.findall(\"(?=(N[^P][ST][^P]))\",protein_seq))\n",
        "\n",
        "  #we added ?= infront of our regular expression denoting the n-glycosylation \n",
        "  #motif in order to cover overlapping sequences \n",
        "  # ?= is a lookahead assertion\n",
        "\n",
        "\n",
        "    #re.findall returns found motifs as a list of strings inside a list \n",
        "    #i.e [['NFSD', 'NSSN', 'NWTE', 'NLSK', 'NISA']]\n",
        "    #following for loop adds each motif as a single element into a list \n",
        "    #i.e [\"NFSD\",\"NSSN\",\"NWTE\",\"NLSK\",\"NISA\"]\n",
        "\n",
        "  motifs2 = []\n",
        "\n",
        "  for i in range(len(motifs)):\n",
        "    for j in range(len(motifs[i])):\n",
        "      motifs2.append(motifs[i][j]) \n",
        "\n",
        "    #following for loops return the positions of motifs inside the protein seq\n",
        "\n",
        "  indexes = []\n",
        "  positions = []\n",
        "\n",
        "  for i in motifs2:\n",
        "    indexes.append(protein_seq.index(i))\n",
        "\n",
        "  for i in indexes: \n",
        "    positions.append(i+1)\n",
        "\n",
        "  print (access_ID, positions)\n",
        "\n",
        "   "
      ],
      "execution_count": 25,
      "outputs": []
    },
    {
      "cell_type": "markdown",
      "metadata": {
        "id": "Ae48gGTFwXwg"
      },
      "source": [
        "#Solving Problem Id MPRT - Finding a Protein Motif "
      ]
    },
    {
      "cell_type": "code",
      "metadata": {
        "id": "ZWeMRYEp_2Tg"
      },
      "source": [
        "#open dataset \n",
        "\n",
        "with open(\"rosalind_mprt.txt\") as file: \n",
        "  lines  = file.readlines()\n",
        "  lines = [line.rstrip() for line in lines ]\n",
        "\n",
        "#feed each access ID one by one into the function we created before\n",
        "for i in lines:\n",
        "  motif_search(i)"
      ],
      "execution_count": 29,
      "outputs": []
    }
  ]
}